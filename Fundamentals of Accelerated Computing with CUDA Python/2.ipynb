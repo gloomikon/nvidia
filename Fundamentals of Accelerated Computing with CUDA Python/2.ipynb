{
 "cells": [
  {
   "cell_type": "code",
   "execution_count": null,
   "metadata": {},
   "outputs": [],
   "source": [
    "@cuda.jit\n",
    "def cuda_histogram(x, xmin, xmax, histogram_out):\n",
    "    '''Increment bin counts in histogram_out, given histogram range [xmin, xmax).'''\n",
    "    # Replace this with your implementation\n",
    "    no_of_bins = histogram_out.shape[0]\n",
    "    bin_width = (xmax - xmin) / no_of_bins\n",
    "    \n",
    "    index = cuda.grid(1)\n",
    "    stride=cuda.gridsize(1)\n",
    "    \n",
    "    for i in range(index, x.shape[0], stride):\n",
    "        bin_number = np.int32((x[i] - xmin)/bin_width)\n",
    "        if bin_number >= 0 and bin_number < histogram_out.shape[0]:\n",
    "            cuda.atomic.add(histogram_out, bin_number, 1) "
   ]
  }
 ],
 "metadata": {
  "language_info": {
   "name": "python"
  },
  "orig_nbformat": 4
 },
 "nbformat": 4,
 "nbformat_minor": 2
}
